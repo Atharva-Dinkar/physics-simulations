{
 "cells": [
  {
   "cell_type": "code",
   "execution_count": 8,
   "metadata": {},
   "outputs": [],
   "source": [
    "import numpy as np\n",
    "import matplotlib.pyplot as plt"
   ]
  },
  {
   "cell_type": "code",
   "execution_count": 75,
   "metadata": {},
   "outputs": [],
   "source": [
    "def logistic_curve(r, K, x0, t):\n",
    "    z = np.exp(r*t)\n",
    "    return (K*x0*z)/(x0*(z-1)+K)\n",
    "\n",
    "def logistic_curve_deriv(r, K, x):\n",
    "    return r*x*(1-(x/K))\n",
    "\n",
    "def rk4_std(r, K, x0, h, t):\n",
    "    x_est = np.zeros(len(t))\n",
    "    x_est[0] = x0\n",
    "    for i in range(1, len(t)):\n",
    "        k1 = logistic_curve_deriv(r, K, x_est[i-1]) # first deriv\n",
    "        k2 = logistic_curve_deriv(r, K, (h*k1/2)+x_est[i-1])\n",
    "        k3 = logistic_curve_deriv(r, K, (h*k2/2)+x_est[i-1])\n",
    "        k4 = logistic_curve_deriv(r, K, (h*k3)+x_est[i-1])\n",
    "        x_est[i] = x_est[i-1]+(h*((k1+(2*k2)+(2*k3)+k4)/6))\n",
    "    return x_est\n",
    "\n",
    "def rk2_std(r, K, x0, h, t):\n",
    "    x_est = np.zeros(len(t))\n",
    "    x_est[0] = x0\n",
    "    for i in range(1, len(t)):\n",
    "        k1 = logistic_curve_deriv(r, K, x_est[i-1]) # first deriv\n",
    "        k2 = logistic_curve_deriv(r, K, (h*k1/2)+x_est[i-1])\n",
    "        x_est[i] = x_est[i-1]+(h*k2)\n",
    "    return x_est\n",
    "\n",
    "def rk2_hen(r, K, x0, h, t):\n",
    "    x_est = np.zeros(len(t))\n",
    "    x_est[0] = x0\n",
    "    for i in range(1, len(t)):\n",
    "        k1 = logistic_curve_deriv(r, K, x_est[i-1]) # first deriv\n",
    "        k2 = logistic_curve_deriv(r, K, (h*k1)+x_est[i-1])\n",
    "        x_est[i] = x_est[i-1]+(k1+k2)*(h/2)\n",
    "    return x_est\n",
    "\n",
    "def rk2_alt(r, K, x0, h, t):\n",
    "    x_est = np.zeros(len(t))\n",
    "    x_est[0] = x0\n",
    "    for i in range(1, len(t)):\n",
    "        k1 = logistic_curve_deriv(r, K, x_est[i-1]) # first deriv\n",
    "        k2 = logistic_curve_deriv(r, K, (2*h*k1/3)+x_est[i-1])\n",
    "        x_est[i] = x_est[i-1]+(k1+(3*k2))*(h/4)\n",
    "    return x_est\n",
    "\n",
    "def find_actual_step(r, K, x0, x, h):\n",
    "    t = (1/r)*np.log((x*(K-x0))/(x0*(K-x)))\n",
    "    print(\"Time is {} by the way\".format(t))\n",
    "    x2 = logistic_curve(r, K, x0, t+h)\n",
    "    return x2-x\n",
    "\n",
    "def find_rk2_std_step(r, K, x0, x, h):\n",
    "    k1 = logistic_curve_deriv(r, K, x) # first deriv\n",
    "    k2 = logistic_curve_deriv(r, K, (h*k1/2)+x)\n",
    "    return k2*h\n",
    "\n",
    "def find_rk2_alt_step(r, K, x0, x, h):\n",
    "    k1 = logistic_curve_deriv(r, K, x) # first deriv\n",
    "    k2 = logistic_curve_deriv(r, K, (2*h*k1/3)+x)\n",
    "    print(x, k1)\n",
    "    print((2*h*k1/3)+x, k2)\n",
    "    return (k1+(3*k2))*(h/4)\n",
    "\n",
    "def find_taylor_step(r, K, x0, x, h):\n",
    "    f1 = r*x*(1-(x/K))\n",
    "    f2 = r*f1*(1-(2*x/K))\n",
    "    f3 = r*f2*(1-(2*x/K)) + r*f1*(2*f1/K)\n",
    "    return h*f1, (h*f1)+(h*h*f2/2), (h*f1)+(h*h*f2/2)+(h*h*h*f3/6)\n",
    "\n",
    "def wiki_curve(C, t):\n",
    "    z = t - (np.sin(2*t)/2)\n",
    "    return C*(np.exp(z/2))\n",
    "    "
   ]
  },
  {
   "cell_type": "code",
   "execution_count": 64,
   "metadata": {},
   "outputs": [
    {
     "name": "stdout",
     "output_type": "stream",
     "text": [
      "0.01 0.0079992\n",
      "0.010053328 0.008041853844768996\n",
      "8.031190383576747e-05\n",
      "(7.9992e-05, 8.031190400640001e-05, 8.031275708376748e-05)\n"
     ]
    }
   ],
   "source": [
    "# print(find_actual_step(r, K, x0, x0, h))\n",
    "# print(find_rk2_std_step(r, K, x0, x0, h))\n",
    "print(find_rk2_alt_step(r, K, x0, x0, h))\n",
    "print(find_taylor_step(r, K, x0, x0, h))"
   ]
  },
  {
   "cell_type": "code",
   "execution_count": 62,
   "metadata": {},
   "outputs": [
    {
     "data": {
      "text/plain": [
       "0.010053328"
      ]
     },
     "execution_count": 62,
     "metadata": {},
     "output_type": "execute_result"
    }
   ],
   "source": [
    "0.01+(0.0079992*(2/3)*0.01)"
   ]
  },
  {
   "cell_type": "code",
   "execution_count": 82,
   "metadata": {},
   "outputs": [],
   "source": [
    "h = 0.001\n",
    "r = 0.8\n",
    "K = 100\n",
    "x0 = 0.01\n",
    "t = np.arange(0, 25+h, h)\n",
    "\n",
    "plt.figure()\n",
    "plt.plot(t, logistic_curve(r, K, x0, t), color = 'blue', label='Actual')\n",
    "plt.plot(t, rk4_std(r, K, x0, h, t), color = 'black', label='RK4_std')\n",
    "# plt.plot(t, rk2_std(r, K, x0, h, t), color = 'red', label='RK2_std')\n",
    "# plt.plot(t, rk2_hen(r, K, x0, h, t), color = 'green', label='RK2_hen')\n",
    "# plt.plot(t, rk2_alt(r, K, x0, h, t), color = 'orange', label='RK2_alt')\n",
    "plt.legend()\n",
    "plt.grid()\n",
    "plt.show()\n",
    "\n",
    "plt.figure()\n",
    "plt.plot(t, logistic_curve(r, K, x0, t)-rk4_std(r, K, x0, h, t), color='black', label='RK4_std error')\n",
    "# plt.plot(t, logistic_curve(r, K, x0, t)-rk2_std(r, K, x0, h, t), color='red', label='RK2_std error')\n",
    "# plt.plot(t, logistic_curve(r, K, x0, t)-rk2_hen(r, K, x0, h, t), color='green', label='RK2_hen error')\n",
    "# plt.plot(t, logistic_curve(r, K, x0, t)-rk2_alt(r, K, x0, h, t), color='orange', label='RK2_alt error')\n",
    "plt.legend()\n",
    "plt.grid()\n",
    "plt.show()"
   ]
  },
  {
   "cell_type": "code",
   "execution_count": 74,
   "metadata": {},
   "outputs": [],
   "source": [
    "t = np.arange(0, 6+h, h)\n",
    "plt.plot(t, wiki_curve(1, t))\n",
    "plt.show()"
   ]
  }
 ],
 "metadata": {
  "kernelspec": {
   "display_name": "Python 3",
   "language": "python",
   "name": "python3"
  },
  "language_info": {
   "codemirror_mode": {
    "name": "ipython",
    "version": 3
   },
   "file_extension": ".py",
   "mimetype": "text/x-python",
   "name": "python",
   "nbconvert_exporter": "python",
   "pygments_lexer": "ipython3",
   "version": "3.8.3"
  }
 },
 "nbformat": 4,
 "nbformat_minor": 4
}
